{
 "cells": [
  {
   "cell_type": "markdown",
   "metadata": {},
   "source": [
    "【笔记】《编写高质量Python代码的59个有效方法》"
   ]
  },
  {
   "cell_type": "markdown",
   "metadata": {},
   "source": [
    "[TOC]"
   ]
  },
  {
   "cell_type": "markdown",
   "metadata": {},
   "source": [
    "## 第一章 用Pythonic方式来思考"
   ]
  },
  {
   "cell_type": "markdown",
   "metadata": {},
   "source": [
    "### 1. 确认Python版本"
   ]
  },
  {
   "cell_type": "code",
   "execution_count": 1,
   "metadata": {},
   "outputs": [
    {
     "name": "stdout",
     "output_type": "stream",
     "text": [
      "sys.version_info(major=3, minor=6, micro=8, releaselevel='final', serial=0) \n",
      "\n",
      "3.6.8 |Anaconda custom (64-bit)| (default, Dec 29 2018, 19:04:46) \n",
      "[GCC 4.2.1 Compatible Clang 4.0.1 (tags/RELEASE_401/final)]\n"
     ]
    }
   ],
   "source": [
    "import sys\n",
    "print(sys.version_info,'\\n')\n",
    "print(sys.version)"
   ]
  },
  {
   "cell_type": "markdown",
   "metadata": {},
   "source": [
    "### 2. 遵循PEP8风格指南"
   ]
  },
  {
   "cell_type": "markdown",
   "metadata": {},
   "source": [
    "https://www.python.org/dev/peps/pep-0008/"
   ]
  },
  {
   "cell_type": "markdown",
   "metadata": {},
   "source": [
    "* 空白\n",
    "    * 用space来缩进，不要用tab\n",
    "    * 每一层缩进4个空格\n",
    "    * 每行字符不超过79\n",
    "    * 多行表达式，除首行外，各行应多缩进4个空格\n",
    "    * 文件中函数和类之间用两个空行隔开\n",
    "    * 同一个类中，方法之间用一个空行隔开\n",
    "    * 使用下标获取元素时，不要留空格\n",
    "    * 变量赋值时，等号左右各一个空格\n",
    "* 命名\n",
    "    * 函数、变量、属性，用小写字母+下划线【lowercase_underscore】\n",
    "    * 受保护实例属性，单下划线开头【\\_leading_underscore】\n",
    "    * 私有实例属性，双下划线开头【\\_\\_double_leading_underscore】\n",
    "    * 类、异常，首字母大写【CapitalizedWord】\n",
    "    * 模块级别敞亮，全大写+下划线【ALL_CAPS】\n",
    "    * 类实例方法首参为self，表示对象自身；类方法首参为cls，表示类自身\n",
    "* 表达式和语句\n",
    "    * 内联否定时，否定放在后面【if a is not b】\n",
    "    * 检测list是否为空时，不要用len(list)，用【if not list】和【if list】\n",
    "    * 不要编写单行的if、for、while、except\n",
    "    * import语句方在文件开头\n",
    "    * 引用包时使用绝对名称，如【from bar import foo】，不要用【import foo】\n",
    "    * import语句按照标准库模块、第三方模块、自用模块排序，各模块内按首字母顺序排序\n",
    "* pylint可以检查代码是否符合PEP8风格"
   ]
  },
  {
   "cell_type": "markdown",
   "metadata": {},
   "source": [
    "### 3. 了解bytes、str、unicode的区别"
   ]
  },
  {
   "cell_type": "markdown",
   "metadata": {},
   "source": [
    "* Python3种，bytes是8位值序列；str是Unicode字符序列\n",
    "* decode将二进制数据转Unicode字符；encode将Unicode字符转为二进制数据\n",
    "* 编码解码操作应放在外围，程序核心部分用Unicode字符(Python3的str、Python2的unicode)\n",
    "* Python3处理二进制文件时，应以'wb'和'rb'来开启"
   ]
  },
  {
   "cell_type": "code",
   "execution_count": 18,
   "metadata": {},
   "outputs": [
    {
     "name": "stdout",
     "output_type": "stream",
     "text": [
      "to_str\t\t 哆啦A梦\n",
      "to_bytes\t b'\\xe5\\x93\\x86\\xe5\\x95\\xa6A\\xe6\\xa2\\xa6'\n",
      "bytes_to_str\t 哆啦A梦\n"
     ]
    }
   ],
   "source": [
    "#Python3中得到bytes和str\n",
    "def to_str(bytes_or_str):\n",
    "    if isinstance(bytes_or_str,bytes):\n",
    "        value=bytes_or_str.decode('utf-8')\n",
    "    else:\n",
    "        value=bytes_or_str\n",
    "    return value\n",
    "def to_bytes(bytes_or_str):\n",
    "    if isinstance(bytes_or_str,str):\n",
    "        value=bytes_or_str.encode('utf-8')\n",
    "    else:\n",
    "        value=bytes_or_str\n",
    "    return value\n",
    "\n",
    "print('to_str\\t\\t',to_str('哆啦A梦'))\n",
    "print('to_bytes\\t',to_bytes('哆啦A梦'))\n",
    "print('bytes_to_str\\t',to_str(to_bytes('哆啦A梦')))"
   ]
  },
  {
   "cell_type": "markdown",
   "metadata": {},
   "source": [
    "### 4. 用辅助函数取代复杂表达式"
   ]
  },
  {
   "cell_type": "markdown",
   "metadata": {},
   "source": [
    "* 重复使用较少时使用【a if flag else b】三元操作符可以，重复多时应用辅助函数"
   ]
  },
  {
   "cell_type": "markdown",
   "metadata": {},
   "source": [
    "### 5. 了解切割序列的方法"
   ]
  },
  {
   "cell_type": "markdown",
   "metadata": {},
   "source": [
    "* 切片(slice)基本写法为list[start:end:stride]，表示从start开始，每stride一个，直到end(不包括end)\n",
    "* 从开头开始，或直到结尾，则不要写0，留空即可"
   ]
  },
  {
   "cell_type": "markdown",
   "metadata": {},
   "source": [
    "* 切割列表时，数组不会越界"
   ]
  },
  {
   "cell_type": "code",
   "execution_count": 3,
   "metadata": {},
   "outputs": [
    {
     "data": {
      "text/plain": [
       "[1, 2, 3, 4]"
      ]
     },
     "execution_count": 3,
     "metadata": {},
     "output_type": "execute_result"
    }
   ],
   "source": [
    "A=[1,2,3,4]\n",
    "A[:100]"
   ]
  },
  {
   "cell_type": "markdown",
   "metadata": {},
   "source": [
    "* 切割会产生新列表，单一个:的切割即复制全列表；而直接对切割赋值会替换列表"
   ]
  },
  {
   "cell_type": "code",
   "execution_count": 4,
   "metadata": {},
   "outputs": [
    {
     "name": "stdout",
     "output_type": "stream",
     "text": [
      "A [1, 2, 3, 4, 5]\n",
      "B [1, 'change', 3]\n",
      "A 赋值 [1, 2, 'cc', 5]\n"
     ]
    }
   ],
   "source": [
    "A=[1,2,3,4,5]\n",
    "B=A[:3]\n",
    "B[1]='change'\n",
    "print('A',A)\n",
    "print('B',B)\n",
    "A[2:4]=['cc']\n",
    "print('A 赋值',A)"
   ]
  },
  {
   "cell_type": "markdown",
   "metadata": {},
   "source": [
    "### 6. 单次切片操作内，不要同时指定start、end、stride"
   ]
  },
  {
   "cell_type": "markdown",
   "metadata": {},
   "source": [
    "* 同时包括三者的的切片操作难以理解，可以采用步进切片；确实需要，考虑itertools模块的islice"
   ]
  },
  {
   "cell_type": "markdown",
   "metadata": {},
   "source": [
    "### 7. 用列表推导(list comprehension)来取代map和filter"
   ]
  },
  {
   "cell_type": "markdown",
   "metadata": {},
   "source": [
    "* 列表、字典、集合都支持，且可以用if过滤"
   ]
  },
  {
   "cell_type": "code",
   "execution_count": 5,
   "metadata": {},
   "outputs": [
    {
     "name": "stdout",
     "output_type": "stream",
     "text": [
      "map filter [4, 16, 36]\n",
      "列表生成式 [4, 16, 36]\n"
     ]
    }
   ],
   "source": [
    "A=[1,2,3,4,5,6]\n",
    "print('map filter',list(map(lambda x:x**2,filter(lambda x:x%2==0,A))))\n",
    "print('列表生成式',[x**2 for x in A if x%2==0])"
   ]
  },
  {
   "cell_type": "markdown",
   "metadata": {},
   "source": [
    "### 8. 不要用含有两个以上表达式的列表推导"
   ]
  },
  {
   "cell_type": "markdown",
   "metadata": {},
   "source": [
    "* 列表推导可以多重循环，但多于两个的时候可读性差"
   ]
  },
  {
   "cell_type": "code",
   "execution_count": 6,
   "metadata": {},
   "outputs": [
    {
     "name": "stdout",
     "output_type": "stream",
     "text": [
      "[1, 2, 3, 4, 5, 6, 7, 8, 9]\n"
     ]
    }
   ],
   "source": [
    "matrix=[[1,2,3],[4,5,6],[7,8,9]]\n",
    "print([x for row in matrix for x in row])"
   ]
  },
  {
   "cell_type": "markdown",
   "metadata": {},
   "source": [
    "### 9. 用生成器表达式来改写数据量较大的列表推导"
   ]
  },
  {
   "cell_type": "markdown",
   "metadata": {},
   "source": [
    "* 列表推导会消耗大量内存；可以使用生成器来处理，迭代读取而不复制，省内存且速度快\n",
    "* 用圆括号的到的即是生成器"
   ]
  },
  {
   "cell_type": "code",
   "execution_count": 7,
   "metadata": {},
   "outputs": [
    {
     "data": {
      "text/plain": [
       "<generator object <genexpr> at 0x11265e360>"
      ]
     },
     "execution_count": 7,
     "metadata": {},
     "output_type": "execute_result"
    }
   ],
   "source": [
    "(x for x in range(10))"
   ]
  },
  {
   "cell_type": "markdown",
   "metadata": {},
   "source": [
    "### 10. 用enumerate代替range"
   ]
  },
  {
   "cell_type": "code",
   "execution_count": 8,
   "metadata": {},
   "outputs": [
    {
     "name": "stdout",
     "output_type": "stream",
     "text": [
      "0 苹果\n",
      "1 香蕉\n",
      "2 西瓜\n",
      "0 苹果\n",
      "1 香蕉\n",
      "2 西瓜\n"
     ]
    }
   ],
   "source": [
    "A=['苹果','香蕉','西瓜']\n",
    "for i in range(len(A)):\n",
    "    print(i,A[i])\n",
    "for i,fruite in enumerate(A):\n",
    "    print(i,fruite)"
   ]
  },
  {
   "cell_type": "markdown",
   "metadata": {},
   "source": [
    "### 11. 用zip函数同时遍历两个迭代器"
   ]
  },
  {
   "cell_type": "markdown",
   "metadata": {},
   "source": [
    "* 对于两个有关联的列表，可以用zip拼接来共同遍历\n",
    "* Python3的zip相当于生成器，如果两个列表不等，提前终止"
   ]
  },
  {
   "cell_type": "code",
   "execution_count": 9,
   "metadata": {},
   "outputs": [
    {
     "name": "stdout",
     "output_type": "stream",
     "text": [
      "苹果 pingguo\n",
      "香蕉 xiangjiao\n",
      "西瓜 xigua\n"
     ]
    }
   ],
   "source": [
    "A=['苹果','香蕉','西瓜']\n",
    "B=['pingguo','xiangjiao','xigua']\n",
    "for a,b in zip(A,B):\n",
    "    print(a,b)"
   ]
  },
  {
   "cell_type": "markdown",
   "metadata": {},
   "source": [
    "### 12. 不要在for和while后面写else"
   ]
  },
  {
   "cell_type": "markdown",
   "metadata": {},
   "source": [
    "* Python的特殊语法，当循环成功执行结束后执行else，不建议使用"
   ]
  },
  {
   "cell_type": "markdown",
   "metadata": {},
   "source": [
    "### 13. 合理利用try/except/else/finally结构的每个代码块"
   ]
  },
  {
   "cell_type": "markdown",
   "metadata": {},
   "source": [
    "* finally一定会执行，不管try中是否成果运行，如close文件句柄\n",
    "* try/except/else结构，try执行失败则执行except，try执行成功则执行else"
   ]
  },
  {
   "cell_type": "markdown",
   "metadata": {},
   "source": [
    "## 第二章 函数"
   ]
  },
  {
   "cell_type": "markdown",
   "metadata": {},
   "source": [
    "### 14. 尽量用异常表示特殊情况，而不是None"
   ]
  },
  {
   "cell_type": "markdown",
   "metadata": {},
   "source": [
    "### 15. 了解如何在闭包里使用外围作用域的变量"
   ]
  },
  {
   "cell_type": "markdown",
   "metadata": {},
   "source": [
    "* 定义在某个作用域内的闭包来说，可以引用该作用域内的变量\n",
    "* 比包内赋值作用域的同名变量不改变作用域变量的值，可以使用nonlocal来修改外围作用于值，尽量不要使用"
   ]
  },
  {
   "cell_type": "code",
   "execution_count": 10,
   "metadata": {},
   "outputs": [
    {
     "name": "stdout",
     "output_type": "stream",
     "text": [
      "[2, 3, 5, 7, 1, 4, 6, 8]\n"
     ]
    }
   ],
   "source": [
    "#修改排序优先级\n",
    "def sort_priority(values,group):\n",
    "    #闭包\n",
    "    def helper(x):\n",
    "        if x in group:\n",
    "            return (0,x)\n",
    "        else:\n",
    "            return (1,x)\n",
    "    values.sort(key=helper)\n",
    "numbers=[8,3,1,2,5,4,7,6]\n",
    "group={2,3,5,7}\n",
    "sort_priority(numbers,group)\n",
    "print(numbers)"
   ]
  },
  {
   "cell_type": "markdown",
   "metadata": {},
   "source": [
    "### 16. 考虑用生成器来改写直接返回列表的函数"
   ]
  },
  {
   "cell_type": "markdown",
   "metadata": {},
   "source": [
    "* 该方法节省内存；相比造list并不断append更清晰"
   ]
  },
  {
   "cell_type": "code",
   "execution_count": 11,
   "metadata": {},
   "outputs": [
    {
     "name": "stdout",
     "output_type": "stream",
     "text": [
      "iter index of string [0, 3, 7]\n"
     ]
    }
   ],
   "source": [
    "#返回字符串间断点\n",
    "def index_words_iter(text):\n",
    "    if text:\n",
    "        yield 0\n",
    "    for index,letter in enumerate(text):\n",
    "        if letter==' ':\n",
    "            yield index+1\n",
    "print('iter index of string',list(index_words_iter('12 456 89')))"
   ]
  },
  {
   "cell_type": "markdown",
   "metadata": {},
   "source": [
    "### 17. 在参数上面迭代时，要多加小心"
   ]
  },
  {
   "cell_type": "markdown",
   "metadata": {},
   "source": [
    "* 迭代器遍历完成后，即没有内容，重新循环迭代不会返回值(认为迭代器已经空了)\n",
    "* 解决方法一，使用固定的列表来迭代\n",
    "* 解决方法二，每次循环重新生成一个迭代器使用\n",
    "* 解决方法三，定义一个可迭代的容器类，修改__iter__方法实现为生成器"
   ]
  },
  {
   "cell_type": "markdown",
   "metadata": {},
   "source": [
    "### 18. 用数量可变的位置参数减少视觉杂讯"
   ]
  },
  {
   "cell_type": "markdown",
   "metadata": {},
   "source": [
    "* 在def中使用*args，可以令函数接受数量可变的位置参数\n",
    "* 调用函数时，可以使用*操作符，使序列元素作为位置参数传给函数\n",
    "* 该操作首先将输入参数转为元组，若对生成器使用*操作符，则可能存在内存风险\n",
    "* 在已使用*args参数的函数上继续添加参数，可能难以排查bug"
   ]
  },
  {
   "cell_type": "code",
   "execution_count": 12,
   "metadata": {},
   "outputs": [
    {
     "name": "stdout",
     "output_type": "stream",
     "text": [
      "A|B|C|D\n",
      "没有字母\n"
     ]
    }
   ],
   "source": [
    "def log(message,*values):\n",
    "    if not values:\n",
    "        print(message)\n",
    "    else:\n",
    "        print('|'.join(str(x) for x in values))\n",
    "log('英文字母','A','B','C','D')\n",
    "log('没有字母')"
   ]
  },
  {
   "cell_type": "markdown",
   "metadata": {},
   "source": [
    "### 19. 用关键字参数表达可选的行为"
   ]
  },
  {
   "cell_type": "markdown",
   "metadata": {
    "collapsed": true
   },
   "source": [
    "* 即使用关键字参数调用函数，如function(para1=xxx,parab=yyy)\n",
    "* 定义函数时，可以将需要传入但通常使用某一值的参数设置默认值，则调用时不指定数值即使用默认值\n",
    "* 如此使用函数，后续修改挺假函数参数定义时，不会出错"
   ]
  },
  {
   "cell_type": "markdown",
   "metadata": {},
   "source": [
    "### 20. 用None和文档字符串来描述具有动态默认值的参数"
   ]
  },
  {
   "cell_type": "markdown",
   "metadata": {},
   "source": [
    "* 具有默认值的函数，其默认赋值只执行一次，因此对于列表、字典等可变变量，多次调用并不会多次默认赋值"
   ]
  },
  {
   "cell_type": "code",
   "execution_count": 13,
   "metadata": {},
   "outputs": [
    {
     "name": "stdout",
     "output_type": "stream",
     "text": [
      "期望[a] ['a']\n",
      "期望[b] ['a', 'b']\n"
     ]
    }
   ],
   "source": [
    "def append_list(string,lst=[]):\n",
    "    lst.append(string)\n",
    "    return lst\n",
    "print('期望[a]',append_list('a'))\n",
    "print('期望[b]',append_list('b'))"
   ]
  },
  {
   "cell_type": "code",
   "execution_count": 14,
   "metadata": {},
   "outputs": [
    {
     "name": "stdout",
     "output_type": "stream",
     "text": [
      "期望[a] ['a']\n",
      "期望[b] ['b']\n"
     ]
    }
   ],
   "source": [
    "def append_list(string,lst=None):\n",
    "    if not lst:\n",
    "        lst=[]\n",
    "    lst.append(string)\n",
    "    return lst\n",
    "print('期望[a]',append_list('a'))\n",
    "print('期望[b]',append_list('b'))"
   ]
  },
  {
   "cell_type": "markdown",
   "metadata": {},
   "source": [
    "### 21. 用只能以关键字形式指定的参数来确保代码明晰"
   ]
  },
  {
   "cell_type": "markdown",
   "metadata": {},
   "source": [
    "* 定义函数时，在参数定义中，加*号，其前为位置参数，其后为必须指定关键字的参数"
   ]
  },
  {
   "cell_type": "code",
   "execution_count": 15,
   "metadata": {},
   "outputs": [
    {
     "name": "stdout",
     "output_type": "stream",
     "text": [
      "plus 3\n",
      "minus -1\n"
     ]
    }
   ],
   "source": [
    "def operate(a,b,is_minus=False):\n",
    "    return a-b if is_minus else a+b\n",
    "print('plus',operate(1,2))\n",
    "print('minus',operate(1,2,True))"
   ]
  },
  {
   "cell_type": "code",
   "execution_count": 16,
   "metadata": {
    "scrolled": true
   },
   "outputs": [
    {
     "name": "stdout",
     "output_type": "stream",
     "text": [
      "minus -1\n"
     ]
    },
    {
     "ename": "TypeError",
     "evalue": "operate() takes 2 positional arguments but 3 were given",
     "output_type": "error",
     "traceback": [
      "\u001b[0;31m---------------------------------------------------------------------------\u001b[0m",
      "\u001b[0;31mTypeError\u001b[0m                                 Traceback (most recent call last)",
      "\u001b[0;32m<ipython-input-16-86fb7a0f3f98>\u001b[0m in \u001b[0;36m<module>\u001b[0;34m()\u001b[0m\n\u001b[1;32m      2\u001b[0m     \u001b[0;32mreturn\u001b[0m \u001b[0ma\u001b[0m\u001b[0;34m-\u001b[0m\u001b[0mb\u001b[0m \u001b[0;32mif\u001b[0m \u001b[0mis_minus\u001b[0m \u001b[0;32melse\u001b[0m \u001b[0ma\u001b[0m\u001b[0;34m+\u001b[0m\u001b[0mb\u001b[0m\u001b[0;34m\u001b[0m\u001b[0;34m\u001b[0m\u001b[0m\n\u001b[1;32m      3\u001b[0m \u001b[0mprint\u001b[0m\u001b[0;34m(\u001b[0m\u001b[0;34m'minus'\u001b[0m\u001b[0;34m,\u001b[0m\u001b[0moperate\u001b[0m\u001b[0;34m(\u001b[0m\u001b[0;36m1\u001b[0m\u001b[0;34m,\u001b[0m\u001b[0;36m2\u001b[0m\u001b[0;34m,\u001b[0m\u001b[0mis_minus\u001b[0m\u001b[0;34m=\u001b[0m\u001b[0;32mTrue\u001b[0m\u001b[0;34m)\u001b[0m\u001b[0;34m)\u001b[0m\u001b[0;34m\u001b[0m\u001b[0;34m\u001b[0m\u001b[0m\n\u001b[0;32m----> 4\u001b[0;31m \u001b[0mprint\u001b[0m\u001b[0;34m(\u001b[0m\u001b[0;34m'minus'\u001b[0m\u001b[0;34m,\u001b[0m\u001b[0moperate\u001b[0m\u001b[0;34m(\u001b[0m\u001b[0;36m1\u001b[0m\u001b[0;34m,\u001b[0m\u001b[0;36m2\u001b[0m\u001b[0;34m,\u001b[0m\u001b[0;32mTrue\u001b[0m\u001b[0;34m)\u001b[0m\u001b[0;34m)\u001b[0m\u001b[0;31m#wrong\u001b[0m\u001b[0;34m\u001b[0m\u001b[0;34m\u001b[0m\u001b[0m\n\u001b[0m",
      "\u001b[0;31mTypeError\u001b[0m: operate() takes 2 positional arguments but 3 were given"
     ]
    }
   ],
   "source": [
    "def operate(a,b,*,is_minus=False):\n",
    "    return a-b if is_minus else a+b\n",
    "print('minus',operate(1,2,is_minus=True))\n",
    "print('minus',operate(1,2,True))#wrong"
   ]
  },
  {
   "cell_type": "markdown",
   "metadata": {},
   "source": [
    "---\n",
    "后续内容个人用到的不多，留个目录需要再补\n",
    "\n",
    "---"
   ]
  },
  {
   "cell_type": "markdown",
   "metadata": {},
   "source": [
    "## 第三章 类与继承\n",
    "\n",
    "### 22. 尽量用辅助类来维护程序的状态，而不要用字典和元组\n",
    "### 23. 简单的接口应该接受函数，而不是类的实例\n",
    "### 24. 以@classmethod形式的多态去通用地构建对象\n",
    "### 25. 用super初始化父类\n",
    "### 26. 只在使用Mix-in组件制作工具类时进行多重继承\n",
    "### 27. 多用public属性，少用private属性\n",
    "### 28. 继承collections.abc以实现自定义的容器类型"
   ]
  },
  {
   "cell_type": "markdown",
   "metadata": {},
   "source": [
    "## 第四章 元类和属性\n",
    "### 29. 用纯属性取代get和set方法\n",
    "### 30. 考虑用@property来代替属性重构\n",
    "### 31. 用描述符来改写需要复用的@property方法\n",
    "### 32. 用\\_\\_getattr\\_\\_、\\_\\_getattribute\\_\\_、\\_\\_setattr\\_\\_实现按需生成的属性\n",
    "### 33. 用元类来验证子类\n",
    "### 34. 用元类来注册子类\n",
    "### 35. 用元类来注解类的属性"
   ]
  },
  {
   "cell_type": "markdown",
   "metadata": {},
   "source": [
    "## 第五章 并发及并行\n",
    "### 36. 用subprocess模块来管理子进程\n",
    "### 37. 可以用线程来执行阻塞式I/O，但不要用它做平行计算\n",
    "### 38. 在线程中使用Lock来防止数据竞争\n",
    "### 39. 用Queue来协调各线程之间的工作\n",
    "### 40. 考虑用协程来并发地运行多个函数\n",
    "### 41. 考虑用concurrent.futures来实现真正的平行计算"
   ]
  },
  {
   "cell_type": "markdown",
   "metadata": {},
   "source": [
    "## 第六章 内置模块\n",
    "### 42. 用functools.wraps来定义函数修饰器\n",
    "### 43. 考虑以contextlib和with语句来改写可复用的try/finally代码\n",
    "### 44. 用copyreg实现可靠的pickle操作\n",
    "### 45. 应该用datetime模块来处理本地时间，而不是time模块\n",
    "### 46. 使用内置算法与数据结构\n",
    "### 47. 在重视精度的场合，应该使用decimal\n",
    "### 48. 学会安装由Python开发者社区所构建的模块"
   ]
  },
  {
   "cell_type": "markdown",
   "metadata": {},
   "source": [
    "## 第七章 协作开发\n",
    "### 49. 为每个函数、类和模块编写文档字符串\n",
    "### 50. 用包来安排模块，并提供稳固的API\n",
    "### 51. 为自编的模块定义根异常，以便将调用者与API相隔离\n",
    "### 52. 用适当的方式打破循环依赖关系\n",
    "### 53. 用虚拟环境隔离项目，并重建其依赖关系"
   ]
  },
  {
   "cell_type": "markdown",
   "metadata": {},
   "source": [
    "## 第八章 部署\n",
    "### 54. 考虑用模块级别的代码来配置不同的部署环境\n",
    "### 55. 通过repr字符串来输出调试信息\n",
    "### 56. 用unittest来测试全部代码\n",
    "### 57. 考虑用pdb实现交互调试\n",
    "### 58. 先分析性能，然后再优化\n",
    "### 59. 用tracemalloc来掌握内存的使用及泄露情况"
   ]
  },
  {
   "cell_type": "code",
   "execution_count": null,
   "metadata": {
    "collapsed": true
   },
   "outputs": [],
   "source": []
  }
 ],
 "metadata": {
  "kernelspec": {
   "display_name": "Python 3",
   "language": "python",
   "name": "python3"
  },
  "language_info": {
   "codemirror_mode": {
    "name": "ipython",
    "version": 3
   },
   "file_extension": ".py",
   "mimetype": "text/x-python",
   "name": "python",
   "nbconvert_exporter": "python",
   "pygments_lexer": "ipython3",
   "version": "3.6.8"
  }
 },
 "nbformat": 4,
 "nbformat_minor": 2
}
